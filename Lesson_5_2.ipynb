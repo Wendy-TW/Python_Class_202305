{
 "cells": [
  {
   "cell_type": "code",
   "execution_count": 3,
   "metadata": {},
   "outputs": [
    {
     "name": "stdout",
     "output_type": "stream",
     "text": [
      "1\n",
      "10\n",
      "8\n",
      "12\n",
      "16\n",
      "47\n",
      "20\n"
     ]
    }
   ],
   "source": [
    "# 大樂透  從 1-49 抽出不重複的 7 unique numbers\n",
    "# 不能用 for in 會重複\n",
    "import random\n",
    "\n",
    "for _ in range(7):  # '_'省略運算子\n",
    "   print( random.randint(1,49))\n"
   ]
  },
  {
   "cell_type": "code",
   "execution_count": 17,
   "metadata": {},
   "outputs": [
    {
     "name": "stdout",
     "output_type": "stream",
     "text": [
      "[18, 21, 26, 41, 42, 46, 48]\n",
      "18 / 21 / 26 / 41 / 42 / 46 / 48 / "
     ]
    }
   ],
   "source": [
    "# 大樂透  從 1-49 抽出不重複的 7 unique numbers\n",
    "#利用  SET 不能重複的特性\n",
    "import random\n",
    "loto=set()\n",
    "while (len(loto)<7 ):\n",
    "    loto.add(random.randint(1,49))\n",
    "    loto_sort=list(sorted(loto))\n",
    "print(loto_sort)\n",
    "\n",
    "for nn in loto_sort:\n",
    "    print(nn , end=\" / \") # end=  設定區分的方法"
   ]
  }
 ],
 "metadata": {
  "kernelspec": {
   "display_name": "Python 3",
   "language": "python",
   "name": "python3"
  },
  "language_info": {
   "codemirror_mode": {
    "name": "ipython",
    "version": 3
   },
   "file_extension": ".py",
   "mimetype": "text/x-python",
   "name": "python",
   "nbconvert_exporter": "python",
   "pygments_lexer": "ipython3",
   "version": "3.9.16"
  },
  "orig_nbformat": 4
 },
 "nbformat": 4,
 "nbformat_minor": 2
}

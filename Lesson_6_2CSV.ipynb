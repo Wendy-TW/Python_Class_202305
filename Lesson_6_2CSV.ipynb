{
 "cells": [
  {
   "cell_type": "code",
   "execution_count": 6,
   "metadata": {},
   "outputs": [
    {
     "ename": "NameError",
     "evalue": "name 'content' is not defined",
     "output_type": "error",
     "traceback": [
      "\u001b[0;31m---------------------------------------------------------------------------\u001b[0m",
      "\u001b[0;31mNameError\u001b[0m                                 Traceback (most recent call last)",
      "Cell \u001b[0;32mIn[6], line 4\u001b[0m\n\u001b[1;32m      2\u001b[0m \u001b[39m#存檔  用 OPEN() 建立 file  file名稱 , mode = w / r\u001b[39;00m\n\u001b[1;32m      3\u001b[0m file \u001b[39m=\u001b[39m \u001b[39mopen\u001b[39m(\u001b[39m'\u001b[39m\u001b[39m個股日成交資訊.csv\u001b[39m\u001b[39m'\u001b[39m,mode\u001b[39m=\u001b[39m\u001b[39m'\u001b[39m\u001b[39mw\u001b[39m\u001b[39m'\u001b[39m,encoding\u001b[39m=\u001b[39m\u001b[39m'\u001b[39m\u001b[39mutf-8\u001b[39m\u001b[39m'\u001b[39m,newline\u001b[39m=\u001b[39m\u001b[39m'\u001b[39m\u001b[39m'\u001b[39m)\n\u001b[0;32m----> 4\u001b[0m file\u001b[39m.\u001b[39mwrite(content)\n\u001b[1;32m      5\u001b[0m file\u001b[39m.\u001b[39mclose()  \u001b[39m# 一定要寫 \u001b[39;00m\n",
      "\u001b[0;31mNameError\u001b[0m: name 'content' is not defined"
     ]
    }
   ],
   "source": [
    "import csv\n",
    "#存檔  用 OPEN() 建立 file  file名稱 , mode = w / r\n",
    "file = open('個股日成交資訊.csv',mode='w',encoding='utf-8',newline='')\n",
    "file.write(content)\n",
    "file.close()  # 一定要寫 \n"
   ]
  },
  {
   "cell_type": "code",
   "execution_count": 7,
   "metadata": {},
   "outputs": [
    {
     "ename": "UnsupportedOperation",
     "evalue": "not readable",
     "output_type": "error",
     "traceback": [
      "\u001b[0;31m---------------------------------------------------------------------------\u001b[0m",
      "\u001b[0;31mUnsupportedOperation\u001b[0m                      Traceback (most recent call last)",
      "Cell \u001b[0;32mIn[7], line 4\u001b[0m\n\u001b[1;32m      2\u001b[0m \u001b[39mwith\u001b[39;00m \u001b[39mopen\u001b[39m(\u001b[39m'\u001b[39m\u001b[39m個股日成交資訊.csv\u001b[39m\u001b[39m'\u001b[39m,mode\u001b[39m=\u001b[39m\u001b[39m'\u001b[39m\u001b[39mw\u001b[39m\u001b[39m'\u001b[39m,encoding\u001b[39m=\u001b[39m\u001b[39m'\u001b[39m\u001b[39mutf-8\u001b[39m\u001b[39m'\u001b[39m,newline\u001b[39m=\u001b[39m\u001b[39m'\u001b[39m\u001b[39m'\u001b[39m) \u001b[39mas\u001b[39;00m file:\n\u001b[1;32m      3\u001b[0m     csv_reader\u001b[39m=\u001b[39mcsv\u001b[39m.\u001b[39mDictReader(file)\n\u001b[0;32m----> 4\u001b[0m     csv_list\u001b[39m=\u001b[39m\u001b[39mlist\u001b[39;49m(csv_reader)\n\u001b[1;32m      6\u001b[0m \u001b[39mfor\u001b[39;00m item_dict \u001b[39min\u001b[39;00m csv_list:\n\u001b[1;32m      7\u001b[0m     \u001b[39mprint\u001b[39m(item_dict)\n",
      "File \u001b[0;32m/usr/local/lib/python3.9/csv.py:110\u001b[0m, in \u001b[0;36mDictReader.__next__\u001b[0;34m(self)\u001b[0m\n\u001b[1;32m    107\u001b[0m \u001b[39mdef\u001b[39;00m \u001b[39m__next__\u001b[39m(\u001b[39mself\u001b[39m):\n\u001b[1;32m    108\u001b[0m     \u001b[39mif\u001b[39;00m \u001b[39mself\u001b[39m\u001b[39m.\u001b[39mline_num \u001b[39m==\u001b[39m \u001b[39m0\u001b[39m:\n\u001b[1;32m    109\u001b[0m         \u001b[39m# Used only for its side effect.\u001b[39;00m\n\u001b[0;32m--> 110\u001b[0m         \u001b[39mself\u001b[39;49m\u001b[39m.\u001b[39;49mfieldnames\n\u001b[1;32m    111\u001b[0m     row \u001b[39m=\u001b[39m \u001b[39mnext\u001b[39m(\u001b[39mself\u001b[39m\u001b[39m.\u001b[39mreader)\n\u001b[1;32m    112\u001b[0m     \u001b[39mself\u001b[39m\u001b[39m.\u001b[39mline_num \u001b[39m=\u001b[39m \u001b[39mself\u001b[39m\u001b[39m.\u001b[39mreader\u001b[39m.\u001b[39mline_num\n",
      "File \u001b[0;32m/usr/local/lib/python3.9/csv.py:97\u001b[0m, in \u001b[0;36mDictReader.fieldnames\u001b[0;34m(self)\u001b[0m\n\u001b[1;32m     95\u001b[0m \u001b[39mif\u001b[39;00m \u001b[39mself\u001b[39m\u001b[39m.\u001b[39m_fieldnames \u001b[39mis\u001b[39;00m \u001b[39mNone\u001b[39;00m:\n\u001b[1;32m     96\u001b[0m     \u001b[39mtry\u001b[39;00m:\n\u001b[0;32m---> 97\u001b[0m         \u001b[39mself\u001b[39m\u001b[39m.\u001b[39m_fieldnames \u001b[39m=\u001b[39m \u001b[39mnext\u001b[39;49m(\u001b[39mself\u001b[39;49m\u001b[39m.\u001b[39;49mreader)\n\u001b[1;32m     98\u001b[0m     \u001b[39mexcept\u001b[39;00m \u001b[39mStopIteration\u001b[39;00m:\n\u001b[1;32m     99\u001b[0m         \u001b[39mpass\u001b[39;00m\n",
      "\u001b[0;31mUnsupportedOperation\u001b[0m: not readable"
     ]
    }
   ],
   "source": [
    "import csv\n",
    "with open('個股日成交資訊.csv',mode='w',encoding='utf-8',newline='') as csvfile:\n",
    "    csv_reader=csv.DictReader(csvfile)\n",
    "    csv_list=list(csv_reader)\n",
    "\n",
    "for item_dict in csv_list:\n",
    "    print(item_dict)\n",
    "\n",
    "    \n",
    "#處理csv檔\n",
    "import csv\n",
    "with open('個股日成交資訊.csv',encoding='utf-8',newline='') as file:\n",
    "    csv_reader = csv.DictReader(file)\n",
    "    #print(type(csv_reader))\n",
    "    csv_list = list(csv_reader)\n",
    "    \n",
    "\n",
    "for item_dict in csv_list:\n",
    "    #if item_dict['證券名稱'] == \"富邦科技\":\n",
    "    #    print(item_dict)\n",
    "    \n",
    "    if \"富邦\" in item_dict['證券名稱']:\n",
    "        print(item_dict)\n",
    "\n"
   ]
  },
  {
   "cell_type": "code",
   "execution_count": 8,
   "metadata": {},
   "outputs": [],
   "source": [
    "#處理csv檔\n",
    "import csv\n",
    "with open('個股日成交資訊.csv',encoding='utf-8',newline='') as file:\n",
    "    csv_reader = csv.DictReader(file)\n",
    "    #print(type(csv_reader))\n",
    "    csv_list = list(csv_reader)\n",
    "    \n",
    "for item_dict in csv_list:\n",
    "    #if item_dict['證券名稱'] == \"富邦科技\":\n",
    "    #    print(item_dict)\n",
    "    \n",
    "    if \"富邦\" in item_dict['證券名稱']:\n",
    "        print(item_dict)\n",
    "\n"
   ]
  },
  {
   "cell_type": "code",
   "execution_count": null,
   "metadata": {},
   "outputs": [],
   "source": [
    "class csv.DictReader()"
   ]
  }
 ],
 "metadata": {
  "kernelspec": {
   "display_name": "Python 3",
   "language": "python",
   "name": "python3"
  },
  "language_info": {
   "codemirror_mode": {
    "name": "ipython",
    "version": 3
   },
   "file_extension": ".py",
   "mimetype": "text/x-python",
   "name": "python",
   "nbconvert_exporter": "python",
   "pygments_lexer": "ipython3",
   "version": "3.9.16"
  },
  "orig_nbformat": 4
 },
 "nbformat": 4,
 "nbformat_minor": 2
}

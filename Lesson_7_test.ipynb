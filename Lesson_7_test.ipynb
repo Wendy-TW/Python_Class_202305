{
 "cells": [
  {
   "cell_type": "code",
   "execution_count": 3,
   "metadata": {},
   "outputs": [
    {
     "name": "stdout",
     "output_type": "stream",
     "text": [
      "ok\n",
      "connect successfully\n",
      "<class 'list'>\n"
     ]
    }
   ],
   "source": [
    "import requests\n",
    "url4=\"https://tcgbusfs.blob.core.windows.net/dotapp/youbike/v2/youbike_immediate.json\"\n",
    "#  Ubike open api\n",
    "\n",
    "response = requests.request('GET', url4)\n",
    "# reponse object 實體接收 data  attribute 可讀/    2.  property read only  3.  Method 呼叫方法\n",
    "if response.ok:\n",
    "    print(\"ok\")\n",
    "   \n",
    "if response.status_code==200:\n",
    "    print(\"connect successfully\")\n",
    "    all_data=response.json()\n",
    "    print(type(all_data))\n",
    "else:  print(f\"fail code:{response.status_code}\")"
   ]
  },
  {
   "cell_type": "code",
   "execution_count": 4,
   "metadata": {},
   "outputs": [
    {
     "name": "stdout",
     "output_type": "stream",
     "text": [
      "<class 'pandas.core.frame.DataFrame'>\n",
      "RangeIndex: 1280 entries, 0 to 1279\n",
      "Data columns (total 18 columns):\n",
      " #   Column         Non-Null Count  Dtype  \n",
      "---  ------         --------------  -----  \n",
      " 0   sno            1280 non-null   object \n",
      " 1   sna            1280 non-null   object \n",
      " 2   tot            1280 non-null   int64  \n",
      " 3   sbi            1280 non-null   int64  \n",
      " 4   sarea          1280 non-null   object \n",
      " 5   mday           1280 non-null   object \n",
      " 6   lat            1280 non-null   float64\n",
      " 7   lng            1280 non-null   float64\n",
      " 8   ar             1280 non-null   object \n",
      " 9   sareaen        1280 non-null   object \n",
      " 10  snaen          1280 non-null   object \n",
      " 11  aren           1280 non-null   object \n",
      " 12  bemp           1280 non-null   int64  \n",
      " 13  act            1280 non-null   object \n",
      " 14  srcUpdateTime  1280 non-null   object \n",
      " 15  updateTime     1280 non-null   object \n",
      " 16  infoTime       1280 non-null   object \n",
      " 17  infoDate       1280 non-null   object \n",
      "dtypes: float64(2), int64(3), object(13)\n",
      "memory usage: 180.1+ KB\n"
     ]
    }
   ],
   "source": [
    "# convert into Dataframe from Dictionary  or from list in sequencein sequence\n",
    "# Dataframe 必須來自 Dictionary 包 LIST  or LIST 包 Dictionary\n",
    "# KEY = column 欄位名\n",
    "# Value=row index\n",
    "# 必須判斷 是否資料結構符合 可以轉換成 DataFrame 的架構才能轉，不然要拆開LIST 再合成\n",
    "import pandas as pd\n",
    "#class pandas.DataFrame(data=None, index=None, columns=None, dtype=None, copy=None)[source]\n",
    "DF1= pd.DataFrame(data=all_data)\n",
    "#DataFrame.info(verbose=None, buf=None, max_cols=None, memory_usage=None, show_counts=None)[source]\n",
    "DF1.info()\n",
    "#DataFrame.describe(percentiles=None, include=None, exclude=None)\n",
    "DF1.describe()\n",
    "#DataFrame.head Return the first n rows.\n",
    "DF1.head(n=5)\n",
    "\n",
    "df3 = DF1.drop(columns=['sareaen','snaen','aren','lat','lng'])\n",
    "df4 = DF1.rename(columns={\"sno\":\"編號\",\n",
    "                    'sna':'名稱',\n",
    "                    'tot':'車輛數',\n",
    "                    'sbi':'可借',\n",
    "                    'sarea':'行政區',\n",
    "                    'mday':'日期',\n",
    "                    'ar':'地址',\n",
    "                    'bemp':'可還',\n",
    "                    'act':'狀態'})\n"
   ]
  }
 ],
 "metadata": {
  "kernelspec": {
   "display_name": "Python 3",
   "language": "python",
   "name": "python3"
  },
  "language_info": {
   "codemirror_mode": {
    "name": "ipython",
    "version": 3
   },
   "file_extension": ".py",
   "mimetype": "text/x-python",
   "name": "python",
   "nbconvert_exporter": "python",
   "pygments_lexer": "ipython3",
   "version": "3.9.16"
  },
  "orig_nbformat": 4
 },
 "nbformat": 4,
 "nbformat_minor": 2
}

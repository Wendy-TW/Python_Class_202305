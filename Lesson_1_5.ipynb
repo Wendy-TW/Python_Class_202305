{
 "cells": [
  {
   "cell_type": "code",
   "execution_count": 4,
   "metadata": {},
   "outputs": [
    {
     "name": "stdout",
     "output_type": "stream",
     "text": [
      "90.0+80.0+80.0 = 250.0\n",
      "Total Score :250，average:83.33\n"
     ]
    }
   ],
   "source": [
    "nat= float(input(\"Score Chinese\"))\n",
    "math=float(input(\"Score Math\"))\n",
    "eng=float(input(\"Score Eng:\"))\n",
    "# INPUT 回傳 STR-->need convert to int/float\n",
    "\n",
    "type(nat)\n",
    "\n",
    "result=nat+math+eng\n",
    "average=result/3\n",
    "print(f\"{nat}+{math}+{eng} = {result}\")\n",
    "print(\"Total Score :%d，average:%5.2f\"%(result,average))"
   ]
  },
  {
   "cell_type": "code",
   "execution_count": 6,
   "metadata": {},
   "outputs": [
    {
     "name": "stdout",
     "output_type": "stream",
     "text": [
      "上底5.0加上下底10.0乘以高2.0除以二等於面積 15.0\n"
     ]
    }
   ],
   "source": [
    "#請輸入梯形的上底(公分):5\n",
    "#請輸入梯形的下底(公分):10\n",
    "#請輸入梯形的高(公分):2\n",
    "#梯形的面積:15平方公分\n",
    "\n",
    "uu= float(input(\"請輸入梯形的上底(公分)\"))\n",
    "bb=float(input(\"請輸入梯形的下底(公分)\"))\n",
    "hh=float(input(\"請輸入梯形的高(公分)\"))\n",
    "area=(uu+bb)/2*hh\n",
    "print(f\"上底{uu}加上下底{bb}乘以高{hh}除以二等於面積 {area}\")"
   ]
  },
  {
   "cell_type": "code",
   "execution_count": null,
   "metadata": {},
   "outputs": [],
   "source": [
    "import math"
   ]
  },
  {
   "cell_type": "code",
   "execution_count": 3,
   "metadata": {},
   "outputs": [
    {
     "name": "stdout",
     "output_type": "stream",
     "text": [
      "<class 'float'>\n",
      "總數為 240.0\n"
     ]
    }
   ],
   "source": [
    "result=0\n",
    "n= float(input(\"Score 1\"))\n",
    "result +=n\n",
    "n= float(input(\"Score 2\"))\n",
    "result +=n\n",
    "n= float(input(\"Score 3\"))\n",
    "result +=n\n",
    "# INPUT 回傳 STR-->need convert to int/float\n",
    "\n",
    "print(type(result))\n",
    "\n",
    " \n",
    "print(f\"總數為 {result}\")"
   ]
  }
 ],
 "metadata": {
  "kernelspec": {
   "display_name": "Python 3",
   "language": "python",
   "name": "python3"
  },
  "language_info": {
   "codemirror_mode": {
    "name": "ipython",
    "version": 3
   },
   "file_extension": ".py",
   "mimetype": "text/x-python",
   "name": "python",
   "nbconvert_exporter": "python",
   "pygments_lexer": "ipython3",
   "version": "3.10.4"
  },
  "orig_nbformat": 4
 },
 "nbformat": 4,
 "nbformat_minor": 2
}

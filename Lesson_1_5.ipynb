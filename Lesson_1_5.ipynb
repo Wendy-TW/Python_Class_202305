{
 "cells": [
  {
   "cell_type": "code",
   "execution_count": 2,
   "metadata": {},
   "outputs": [
    {
     "name": "stdout",
     "output_type": "stream",
     "text": [
      "85.0+80.0+90.0 = 255.0\n"
     ]
    }
   ],
   "source": [
    "nat= float(input(\"Score Chinese\"))\n",
    "math=float(input(\"Score Math\"))\n",
    "eng=float(input(\"Score Eng:\"))\n",
    "# INPUT 回傳 STR-->need convert to int/float\n",
    "\n",
    "type(nat)\n",
    "\n",
    "result=nat+math+eng\n",
    "print(f\"{nat}+{math}+{eng} = {result}\")\n"
   ]
  },
  {
   "cell_type": "code",
   "execution_count": 3,
   "metadata": {},
   "outputs": [
    {
     "name": "stdout",
     "output_type": "stream",
     "text": [
      "<class 'float'>\n",
      "總數為 240.0\n"
     ]
    }
   ],
   "source": [
    "result=0\n",
    "n= float(input(\"Score 1\"))\n",
    "result +=n\n",
    "n= float(input(\"Score 2\"))\n",
    "result +=n\n",
    "n= float(input(\"Score 3\"))\n",
    "result +=n\n",
    "# INPUT 回傳 STR-->need convert to int/float\n",
    "\n",
    "print(type(result))\n",
    "\n",
    " \n",
    "print(f\"總數為 {result}\")"
   ]
  }
 ],
 "metadata": {
  "kernelspec": {
   "display_name": "Python 3",
   "language": "python",
   "name": "python3"
  },
  "language_info": {
   "codemirror_mode": {
    "name": "ipython",
    "version": 3
   },
   "file_extension": ".py",
   "mimetype": "text/x-python",
   "name": "python",
   "nbconvert_exporter": "python",
   "pygments_lexer": "ipython3",
   "version": "3.10.4"
  },
  "orig_nbformat": 4
 },
 "nbformat": 4,
 "nbformat_minor": 2
}

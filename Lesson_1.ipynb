{
 "cells": [
  {
   "cell_type": "code",
   "execution_count": 2,
   "metadata": {},
   "outputs": [
    {
     "name": "stdout",
     "output_type": "stream",
     "text": [
      "Hello! Python!\n",
      "90\n"
     ]
    }
   ],
   "source": [
    "print(\"Hello! Python!\")\n",
    "scores  = 90\n",
    "print(scores)"
   ]
  },
  {
   "cell_type": "code",
   "execution_count": 4,
   "metadata": {},
   "outputs": [
    {
     "name": "stdout",
     "output_type": "stream",
     "text": [
      "123 this is INT integer\n",
      "123.55 this is Float \n",
      "字串 Str\n",
      "True Boolen\n"
     ]
    }
   ],
   "source": [
    "# Python data type \n",
    "# 引數值\n",
    "print(123,\"this is INT integer\")\n",
    "print(123.55,\"this is Float \")\n",
    "print(\"字串\", \"Str\")\n",
    "print(True, \"Boolen\")"
   ]
  },
  {
   "cell_type": "code",
   "execution_count": null,
   "metadata": {},
   "outputs": [],
   "source": [
    "# 這是引數值\n",
    "print(123,\"我是int\")\n",
    "print(456.123, '我是float')\n",
    "print(\"字串\",\"這是str\")\n",
    "print(True, \"我是bool值\")"
   ]
  }
 ],
 "metadata": {
  "kernelspec": {
   "display_name": "Python 3",
   "language": "python",
   "name": "python3"
  },
  "language_info": {
   "codemirror_mode": {
    "name": "ipython",
    "version": 3
   },
   "file_extension": ".py",
   "mimetype": "text/x-python",
   "name": "python",
   "nbconvert_exporter": "python",
   "pygments_lexer": "ipython3",
   "version": "3.10.4"
  },
  "orig_nbformat": 4
 },
 "nbformat": 4,
 "nbformat_minor": 2
}

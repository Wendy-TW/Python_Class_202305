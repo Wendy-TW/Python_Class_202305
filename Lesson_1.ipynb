{
 "cells": [
  {
   "cell_type": "code",
   "execution_count": 2,
   "metadata": {},
   "outputs": [
    {
     "name": "stdout",
     "output_type": "stream",
     "text": [
      "Hello! Python!\n",
      "90\n"
     ]
    }
   ],
   "source": [
    "print(\"Hello! Python!\")\n",
    "scores  = 90\n",
    "print(scores)"
   ]
  },
  {
   "cell_type": "code",
   "execution_count": 4,
   "metadata": {},
   "outputs": [
    {
     "name": "stdout",
     "output_type": "stream",
     "text": [
      "123 this is INT integer\n",
      "123.55 this is Float \n",
      "字串 Str\n",
      "True Boolen\n"
     ]
    }
   ],
   "source": [
    "# Python data type \n",
    "# 引數值\n",
    "print(123,\"this is INT integer\")\n",
    "print(123.55,\"this is Float \")\n",
    "print(\"字串\", \"Str\")\n",
    "print(True, \"Boolen\")"
   ]
  },
  {
   "cell_type": "code",
   "execution_count": null,
   "metadata": {},
   "outputs": [],
   "source": [
    "# 這是引數值\n",
    "print(123,\"我是int\")\n",
    "print(456.123, '我是float')\n",
    "print(\"字串\",\"這是str\")\n",
    "print(True, \"我是bool值\")"
   ]
  },
  {
   "cell_type": "code",
   "execution_count": 1,
   "metadata": {},
   "outputs": [
    {
     "ename": "NameError",
     "evalue": "name 'modify' is not defined",
     "output_type": "error",
     "traceback": [
      "\u001b[0;31m---------------------------------------------------------------------------\u001b[0m",
      "\u001b[0;31mNameError\u001b[0m                                 Traceback (most recent call last)",
      "Cell \u001b[0;32mIn[1], line 3\u001b[0m\n\u001b[1;32m      1\u001b[0m \u001b[39m#複合指定運算子\u001b[39;00m\n\u001b[1;32m      2\u001b[0m total \u001b[39m=\u001b[39m \u001b[39m0\u001b[39m\n\u001b[0;32m----> 3\u001b[0m n \u001b[39m=\u001b[39m \u001b[39meval\u001b[39;49m(\u001b[39minput\u001b[39;49m(\u001b[39m'\u001b[39;49m\u001b[39m請輸入第一個數:\u001b[39;49m\u001b[39m'\u001b[39;49m))\n\u001b[1;32m      4\u001b[0m total \u001b[39m+\u001b[39m\u001b[39m=\u001b[39m n\n\u001b[1;32m      5\u001b[0m n \u001b[39m=\u001b[39m \u001b[39meval\u001b[39m(\u001b[39minput\u001b[39m(\u001b[39m'\u001b[39m\u001b[39m請輸入第二個數:\u001b[39m\u001b[39m'\u001b[39m))\n",
      "File \u001b[0;32m<string>:1\u001b[0m\n",
      "\u001b[0;31mNameError\u001b[0m: name 'modify' is not defined"
     ]
    }
   ],
   "source": [
    "#複合指定運算子\n",
    "total = 0\n",
    "n = eval(input('請輸入第一個數:'))\n",
    "total += n\n",
    "n = eval(input('請輸入第二個數:'))\n",
    "total += n\n",
    "n = eval(input('請輸入第三個數:'))\n",
    "total += n\n",
    "print(f\"3數相加後{total}\")"
   ]
  },
  {
   "cell_type": "code",
   "execution_count": null,
   "metadata": {},
   "outputs": [],
   "source": []
  }
 ],
 "metadata": {
  "kernelspec": {
   "display_name": "Python 3",
   "language": "python",
   "name": "python3"
  },
  "language_info": {
   "codemirror_mode": {
    "name": "ipython",
    "version": 3
   },
   "file_extension": ".py",
   "mimetype": "text/x-python",
   "name": "python",
   "nbconvert_exporter": "python",
   "pygments_lexer": "ipython3",
   "version": "3.10.4"
  },
  "orig_nbformat": 4
 },
 "nbformat": 4,
 "nbformat_minor": 2
}

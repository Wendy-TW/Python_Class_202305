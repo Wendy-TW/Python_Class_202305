{
 "cells": [
  {
   "cell_type": "code",
   "execution_count": 3,
   "metadata": {},
   "outputs": [],
   "source": [
    "# 字串整合插補  讓變數自動顯示在字串裡面\n",
    "# INPUT  裡面只能放一個字串  INPUT 提示使用者 訊息\n",
    "n=5\n",
    "m=10\n",
    "result = input(f\"請輸入 {n} + {m} 的數值:\")\n",
    "print(result)\n",
    "\n",
    "result1 = input(f\"請輸入 {n} + {m} 的數值:\")\n",
    "print(result1)"
   ]
  }
 ],
 "metadata": {
  "kernelspec": {
   "display_name": "Python 3",
   "language": "python",
   "name": "python3"
  },
  "language_info": {
   "codemirror_mode": {
    "name": "ipython",
    "version": 3
   },
   "file_extension": ".py",
   "mimetype": "text/x-python",
   "name": "python",
   "nbconvert_exporter": "python",
   "pygments_lexer": "ipython3",
   "version": "3.10.4"
  },
  "orig_nbformat": 4
 },
 "nbformat": 4,
 "nbformat_minor": 2
}

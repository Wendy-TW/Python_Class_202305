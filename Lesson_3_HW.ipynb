{
 "cells": [
  {
   "cell_type": "code",
   "execution_count": null,
   "metadata": {},
   "outputs": [],
   "source": [
    "#問題 ninenine.py\n",
    "#以程式建立 9 x 9 的二維整數陣列，陣列內容是九九乘法表的乘積，並將之輸出\n",
    "\n",
    "for i in range(9):\n",
    "    for j in range(9):\n",
    "\n",
    "\n",
    "\n"
   ]
  }
 ],
 "metadata": {
  "language_info": {
   "name": "python"
  },
  "orig_nbformat": 4
 },
 "nbformat": 4,
 "nbformat_minor": 2
}

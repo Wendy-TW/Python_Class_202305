{
 "cells": [
  {
   "cell_type": "code",
   "execution_count": 1,
   "metadata": {},
   "outputs": [
    {
     "name": "stdout",
     "output_type": "stream",
     "text": [
      "ok\n",
      "connect successfully\n",
      "<class 'str'>\n"
     ]
    }
   ],
   "source": [
    "import requests\n",
    "url4=\"https://tcgbusfs.blob.core.windows.net/dotapp/youbike/v2/youbike_immediate.json\"\n",
    "#  Ubike open api\n",
    "\n",
    "response = requests.request('GET', url4)\n",
    "# reponse object 實體接收 data  attribute 可讀/    2.  property read only  3.  Method 呼叫方法\n",
    "if response.ok:\n",
    "    print(\"ok\")\n",
    "   \n",
    "if response.status_code==200:\n",
    "    print(\"connect successfully\")\n",
    "    all_text=response.text\n",
    "    print(type(all_text))\n",
    "else:  print(f\"fail code:{response.status_code}\")"
   ]
  },
  {
   "cell_type": "code",
   "execution_count": 2,
   "metadata": {},
   "outputs": [
    {
     "name": "stdout",
     "output_type": "stream",
     "text": [
      "ok\n",
      "connect successfully\n",
      "<class 'list'>\n"
     ]
    }
   ],
   "source": [
    "import requests\n",
    "url4=\"https://tcgbusfs.blob.core.windows.net/dotapp/youbike/v2/youbike_immediate.json\"\n",
    "#  Ubike open api\n",
    "\n",
    "response = requests.request('GET', url4)\n",
    "# reponse object 實體接收 data  attribute 可讀/    2.  property read only  3.  Method 呼叫方法\n",
    "if response.ok:\n",
    "    print(\"ok\")\n",
    "   \n",
    "if response.status_code==200:\n",
    "    print(\"connect successfully\")\n",
    "    all_data=response.json()  #import as json automatically list\n",
    "    print(type(all_data))\n",
    "else:  print(f\"fail code:{response.status_code}\")\n",
    "\n",
    "for site in all_data:\n",
    "    print(site)"
   ]
  },
  {
   "cell_type": "code",
   "execution_count": 3,
   "metadata": {},
   "outputs": [],
   "source": [
    "# convert into Dataframe from Dictionary  or from list in sequencein sequence\n",
    "# Dataframe 必須來自 Dictionary 包 LIST  or LIST 包 Dictionary\n",
    "# KEY = column 欄位名\n",
    "# Value=row index\n",
    "# "
   ]
  },
  {
   "cell_type": "code",
   "execution_count": null,
   "metadata": {},
   "outputs": [],
   "source": [
    "\n",
    "import pandas\n"
   ]
  }
 ],
 "metadata": {
  "kernelspec": {
   "display_name": "Python 3",
   "language": "python",
   "name": "python3"
  },
  "language_info": {
   "codemirror_mode": {
    "name": "ipython",
    "version": 3
   },
   "file_extension": ".py",
   "mimetype": "text/x-python",
   "name": "python",
   "nbconvert_exporter": "python",
   "pygments_lexer": "ipython3",
   "version": "3.9.16"
  },
  "orig_nbformat": 4
 },
 "nbformat": 4,
 "nbformat_minor": 2
}

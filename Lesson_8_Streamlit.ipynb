{
 "cells": [
  {
   "cell_type": "markdown",
   "metadata": {},
   "source": []
  },
  {
   "cell_type": "code",
   "execution_count": null,
   "metadata": {
    "vscode": {
     "languageId": "plaintext"
    }
   },
   "outputs": [],
   "source": [
    "# 終端機  Defalut 設在 CMD\n",
    "# 終端機  pip install streamlit\n",
    "#  Under CMD:   C:\\Users\\User\\Documents\\GitHub\\Python_Class_202305>streamlit hello\n",
    "#  Under CMD to Stop Steamlit:  Cntl + C  /  Cntl + Documents"
   ]
  },
  {
   "cell_type": "code",
   "execution_count": null,
   "metadata": {
    "vscode": {
     "languageId": "plaintext"
    }
   },
   "outputs": [],
   "source": [
    "import streamlit as st\n",
    "import pandas as pd\n",
    "\n",
    "st.title('Hellow, World')\n",
    "Uploaded_csv=st.file_uploader('Choose the CSV file to upload)\n",
    "\n",
    "if Uploaded_csv"
   ]
  }
 ],
 "metadata": {
  "language_info": {
   "name": "python"
  },
  "orig_nbformat": 4
 },
 "nbformat": 4,
 "nbformat_minor": 2
}

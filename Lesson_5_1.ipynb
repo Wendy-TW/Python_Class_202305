{
 "cells": [
  {
   "cell_type": "code",
   "execution_count": 1,
   "metadata": {},
   "outputs": [
    {
     "name": "stdout",
     "output_type": "stream",
     "text": [
      "Hello\n"
     ]
    }
   ],
   "source": [
    "print(\"Hello\")"
   ]
  },
  {
   "cell_type": "code",
   "execution_count": 4,
   "metadata": {},
   "outputs": [
    {
     "data": {
      "text/plain": [
       "(38, 15, 47)"
      ]
     },
     "execution_count": 4,
     "metadata": {},
     "output_type": "execute_result"
    }
   ],
   "source": [
    "import random\n",
    "random.randrange(1, 101, 2)   #random.randrange(start, stop不包含 [, step])\n",
    "random.randrange( 50 ) , random.randrange(1, 101), random.randrange(1, 101, 2)\n"
   ]
  },
  {
   "cell_type": "code",
   "execution_count": 5,
   "metadata": {},
   "outputs": [
    {
     "data": {
      "text/plain": [
       "73"
      ]
     },
     "execution_count": 5,
     "metadata": {},
     "output_type": "execute_result"
    }
   ],
   "source": [
    "random.randint(50,100)  # rand.randint(start, end) create a random number between start <= rand<=end"
   ]
  },
  {
   "cell_type": "code",
   "execution_count": 6,
   "metadata": {},
   "outputs": [
    {
     "name": "stdout",
     "output_type": "stream",
     "text": [
      "Sun\n",
      "Mon\n",
      "Tue\n",
      "Wed\n",
      "Thu\n",
      "Fri\n",
      "Sat\n"
     ]
    }
   ],
   "source": [
    "#Create LIST [ , , ,]  Python auto assign 0,1,2 as key value\n",
    "weekdays = ['Sun','Mon', 'Tue', 'Wed', 'Thu', 'Fri', 'Sat']\n",
    "for ele in weekdays:\n",
    "    print(ele)\n"
   ]
  },
  {
   "cell_type": "code",
   "execution_count": 11,
   "metadata": {},
   "outputs": [
    {
     "name": "stdout",
     "output_type": "stream",
     "text": [
      "1\n",
      "key:one turn out \n",
      "value:1\n",
      "key:two turn out \n",
      "value:2\n",
      "key:three turn out \n",
      "value:3\n",
      "key:four turn out \n",
      "value:4\n"
     ]
    }
   ],
   "source": [
    "#Create Dictionary {key1: value 1,  }  Python auto assign 0,1,2 as key value\n",
    "numbers={'one':1, 'two':2,  'three':3,   'four':4   }\n",
    "\n",
    "print( numbers['one'])   #  value =  dictionaryname[key1]\n",
    "\n",
    "for key in numbers:      \n",
    "    print(f'key:{key} turn out ') # call out key by {key}\n",
    "    print(f'value:{numbers[key]}') # call out value by {dictionaryname[keyname]}"
   ]
  },
  {
   "cell_type": "code",
   "execution_count": 12,
   "metadata": {},
   "outputs": [
    {
     "data": {
      "text/plain": [
       "(list, dict)"
      ]
     },
     "execution_count": 12,
     "metadata": {},
     "output_type": "execute_result"
    }
   ],
   "source": [
    "type(weekdays), type(numbers)"
   ]
  },
  {
   "cell_type": "code",
   "execution_count": 13,
   "metadata": {},
   "outputs": [
    {
     "name": "stdout",
     "output_type": "stream",
     "text": [
      "<class 'list'>\n"
     ]
    }
   ],
   "source": [
    "# how to create a list\n",
    "list((1,2,3,4))\n",
    "print(list)"
   ]
  },
  {
   "cell_type": "code",
   "execution_count": 20,
   "metadata": {},
   "outputs": [],
   "source": [
    "list1=[]\n",
    "list1=list()\n"
   ]
  },
  {
   "cell_type": "code",
   "execution_count": 24,
   "metadata": {},
   "outputs": [
    {
     "name": "stdout",
     "output_type": "stream",
     "text": [
      "r\n",
      "['t', 'h', 'four', 'four', 'four', 'four', 'e', 'one', 't', 'h', 'r', 'e', 'e', 'one', 't', 'h', 'r', 'e', 'e', 'one', 't', 'h', 'r', 'e', 'e']\n",
      "7\n"
     ]
    }
   ],
   "source": [
    "list1.append(\"one\")  #listname.append(only 1 element)\n",
    "list1.extend(\"three\")\n",
    "list1.insert(3,\"four\") #listname.insert(位置3, 放element)\n",
    "\n",
    "print(list1.pop(6) )#listname.pop(刪除第幾個位置)  傳出來\n",
    "print(list1)\n",
    "print(list1.count('e')) #listname.count('值')  傳出數有幾個值"
   ]
  },
  {
   "cell_type": "code",
   "execution_count": null,
   "metadata": {},
   "outputs": [],
   "source": [
    "score=[]\n",
    "total=inscore=0\n",
    "while(inscore!= -1)"
   ]
  },
  {
   "cell_type": "code",
   "execution_count": null,
   "metadata": {},
   "outputs": [],
   "source": [
    "# create a empty dictionary\n",
    "my_dict={}\n"
   ]
  },
  {
   "cell_type": "code",
   "execution_count": 30,
   "metadata": {},
   "outputs": [
    {
     "name": "stdout",
     "output_type": "stream",
     "text": [
      "{1, 2, 3, 4, 5, 6, 7}\n",
      "{'Tue', 'Fri', 'Wed', 'Thu', 'Mon', 'Sat', 'Sun'}\n",
      "7 25 4\n",
      "<class 'set'> <class 'list'> <class 'dict'>\n"
     ]
    }
   ],
   "source": [
    "# create a empty SET  必須用 SET function  沒有key, 去除重複\n",
    "my_set= set()\n",
    "my_set={5,2,7,4,5,6,1,2,3,4,5}\n",
    "my_set2= set()\n",
    "my_set2={'Sun','Mon', 'Tue', 'Wed', 'Thu', 'Fri', 'Sat'}\n",
    "print(my_set)\n",
    "print(my_set2)\n",
    "print(len(my_set), len(list1), len(numbers))  # function len() output Numbers of Element in set/list/dict\n",
    "print(type(my_set), type(list1), type(numbers)) # function type() output what data type"
   ]
  },
  {
   "cell_type": "code",
   "execution_count": 36,
   "metadata": {},
   "outputs": [
    {
     "name": "stdout",
     "output_type": "stream",
     "text": [
      "dict_keys(['one', 'two', 'three', 'four'])\n",
      "dict_values([1, 2, 3, 4])\n",
      "dict_items([('one', 1), ('two', 2), ('three', 3), ('four', 4)])\n",
      "one\n",
      "two\n",
      "three\n",
      "four\n",
      "1\n",
      "2\n",
      "3\n",
      "4\n",
      "('one', 1)\n",
      "('two', 2)\n",
      "('three', 3)\n",
      "('four', 4)\n"
     ]
    }
   ],
   "source": [
    "print(numbers.keys())     # DictName.keys() \n",
    "print(numbers.values())   # DictName.values()\n",
    "print(numbers.items())    # DictName.items()   --  key1:value1 ...\n",
    "for key1 in numbers.keys():  \n",
    "    print(key1)\n",
    "for value1 in numbers.values():     \n",
    "    print(value1)\n",
    "\n",
    "for item1 in numbers.items():\n",
    "    print(item1)"
   ]
  },
  {
   "cell_type": "code",
   "execution_count": 38,
   "metadata": {},
   "outputs": [
    {
     "name": "stdout",
     "output_type": "stream",
     "text": [
      "1\n",
      "one\n",
      "2\n",
      "two\n",
      "3\n",
      "three\n",
      "4\n",
      "four\n"
     ]
    }
   ],
   "source": [
    "for key1, value1 in numbers.items():\n",
    "    print(value1)\n",
    "    print(key1)"
   ]
  }
 ],
 "metadata": {
  "kernelspec": {
   "display_name": "Python 3",
   "language": "python",
   "name": "python3"
  },
  "language_info": {
   "codemirror_mode": {
    "name": "ipython",
    "version": 3
   },
   "file_extension": ".py",
   "mimetype": "text/x-python",
   "name": "python",
   "nbconvert_exporter": "python",
   "pygments_lexer": "ipython3",
   "version": "3.9.16"
  },
  "orig_nbformat": 4
 },
 "nbformat": 4,
 "nbformat_minor": 2
}

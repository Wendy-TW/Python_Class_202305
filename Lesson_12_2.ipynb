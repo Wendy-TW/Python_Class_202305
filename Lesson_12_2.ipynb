{
 "cells": [
  {
   "cell_type": "code",
   "execution_count": 15,
   "metadata": {},
   "outputs": [
    {
     "data": {
      "text/plain": [
       "0        0050元大台灣50\n",
       "1       0051元大中型100\n",
       "2          0052富邦科技\n",
       "3          0053元大電子\n",
       "4        0054元大台商50\n",
       "           ...     \n",
       "1108         9944新麗\n",
       "1109        9945潤泰新\n",
       "1110       9946三發地產\n",
       "1111         9955佳龍\n",
       "1112        9958世紀鋼\n",
       "Length: 1113, dtype: object"
      ]
     },
     "execution_count": 15,
     "metadata": {},
     "output_type": "execute_result"
    }
   ],
   "source": [
    "import streamlit as st\n",
    "import pandas as pd\n",
    "import yfinance as yf\n",
    "\n",
    "codeFrame=pd.read_csv('個股日成交資訊.csv',  usecols=['證券代號','證券名稱', '成交金額'])\n",
    "codeFrame['證券代號'].astype(str) + codeFrame['證券名稱']"
   ]
  },
  {
   "cell_type": "code",
   "execution_count": 16,
   "metadata": {},
   "outputs": [
    {
     "name": "stderr",
     "output_type": "stream",
     "text": [
      "WARNING No decryption keys could be extracted from JS file. Falling back to backup decrypt methods.\n"
     ]
    },
    {
     "ename": "Exception",
     "evalue": "yfinance failed to decrypt Yahoo data response",
     "output_type": "error",
     "traceback": [
      "\u001b[0;31m---------------------------------------------------------------------------\u001b[0m",
      "\u001b[0;31mException\u001b[0m                                 Traceback (most recent call last)",
      "Cell \u001b[0;32mIn[16], line 22\u001b[0m\n\u001b[1;32m     18\u001b[0m msft\u001b[39m.\u001b[39mcapital_gains  \u001b[39m# only for mutual funds & etfs\u001b[39;00m\n\u001b[1;32m     20\u001b[0m \u001b[39m# show share count\u001b[39;00m\n\u001b[1;32m     21\u001b[0m \u001b[39m# - yearly summary:\u001b[39;00m\n\u001b[0;32m---> 22\u001b[0m msft\u001b[39m.\u001b[39;49mshares\n\u001b[1;32m     23\u001b[0m \u001b[39m# - accurate time-series count:\u001b[39;00m\n\u001b[1;32m     24\u001b[0m msft\u001b[39m.\u001b[39mget_shares_full(start\u001b[39m=\u001b[39m\u001b[39m\"\u001b[39m\u001b[39m2022-01-01\u001b[39m\u001b[39m\"\u001b[39m, end\u001b[39m=\u001b[39m\u001b[39mNone\u001b[39;00m)\n",
      "File \u001b[0;32m~/.local/lib/python3.9/site-packages/yfinance/ticker.py:134\u001b[0m, in \u001b[0;36mTicker.shares\u001b[0;34m(self)\u001b[0m\n\u001b[1;32m    132\u001b[0m \u001b[39m@property\u001b[39m\n\u001b[1;32m    133\u001b[0m \u001b[39mdef\u001b[39;00m \u001b[39mshares\u001b[39m(\u001b[39mself\u001b[39m) \u001b[39m-\u001b[39m\u001b[39m>\u001b[39m _pd\u001b[39m.\u001b[39mDataFrame :\n\u001b[0;32m--> 134\u001b[0m     \u001b[39mreturn\u001b[39;00m \u001b[39mself\u001b[39;49m\u001b[39m.\u001b[39;49mget_shares()\n",
      "File \u001b[0;32m~/.local/lib/python3.9/site-packages/yfinance/base.py:1335\u001b[0m, in \u001b[0;36mTickerBase.get_shares\u001b[0;34m(self, proxy, as_dict)\u001b[0m\n\u001b[1;32m   1333\u001b[0m \u001b[39mdef\u001b[39;00m \u001b[39mget_shares\u001b[39m(\u001b[39mself\u001b[39m, proxy\u001b[39m=\u001b[39m\u001b[39mNone\u001b[39;00m, as_dict\u001b[39m=\u001b[39m\u001b[39mFalse\u001b[39;00m):\n\u001b[1;32m   1334\u001b[0m     \u001b[39mself\u001b[39m\u001b[39m.\u001b[39m_fundamentals\u001b[39m.\u001b[39mproxy \u001b[39m=\u001b[39m proxy\n\u001b[0;32m-> 1335\u001b[0m     data \u001b[39m=\u001b[39m \u001b[39mself\u001b[39;49m\u001b[39m.\u001b[39;49m_fundamentals\u001b[39m.\u001b[39;49mshares\n\u001b[1;32m   1336\u001b[0m     \u001b[39mif\u001b[39;00m as_dict:\n\u001b[1;32m   1337\u001b[0m         \u001b[39mreturn\u001b[39;00m data\u001b[39m.\u001b[39mto_dict()\n",
      "File \u001b[0;32m~/.local/lib/python3.9/site-packages/yfinance/scrapers/fundamentals.py:42\u001b[0m, in \u001b[0;36mFundamentals.shares\u001b[0;34m(self)\u001b[0m\n\u001b[1;32m     39\u001b[0m \u001b[39m@property\u001b[39m\n\u001b[1;32m     40\u001b[0m \u001b[39mdef\u001b[39;00m \u001b[39mshares\u001b[39m(\u001b[39mself\u001b[39m) \u001b[39m-\u001b[39m\u001b[39m>\u001b[39m pd\u001b[39m.\u001b[39mDataFrame:\n\u001b[1;32m     41\u001b[0m     \u001b[39mif\u001b[39;00m \u001b[39mself\u001b[39m\u001b[39m.\u001b[39m_shares \u001b[39mis\u001b[39;00m \u001b[39mNone\u001b[39;00m:\n\u001b[0;32m---> 42\u001b[0m         \u001b[39mself\u001b[39;49m\u001b[39m.\u001b[39;49m_scrape_shares(\u001b[39mself\u001b[39;49m\u001b[39m.\u001b[39;49mproxy)\n\u001b[1;32m     43\u001b[0m     \u001b[39mreturn\u001b[39;00m \u001b[39mself\u001b[39m\u001b[39m.\u001b[39m_shares\n",
      "File \u001b[0;32m~/.local/lib/python3.9/site-packages/yfinance/scrapers/fundamentals.py:82\u001b[0m, in \u001b[0;36mFundamentals._scrape_shares\u001b[0;34m(self, proxy)\u001b[0m\n\u001b[1;32m     81\u001b[0m \u001b[39mdef\u001b[39;00m \u001b[39m_scrape_shares\u001b[39m(\u001b[39mself\u001b[39m, proxy):\n\u001b[0;32m---> 82\u001b[0m     \u001b[39mself\u001b[39;49m\u001b[39m.\u001b[39;49m_scrape_basics(proxy)\n\u001b[1;32m     83\u001b[0m     \u001b[39m# shares outstanding\u001b[39;00m\n\u001b[1;32m     84\u001b[0m     \u001b[39mtry\u001b[39;00m:\n\u001b[1;32m     85\u001b[0m         \u001b[39m# keep only years with non None data\u001b[39;00m\n",
      "File \u001b[0;32m~/.local/lib/python3.9/site-packages/yfinance/scrapers/fundamentals.py:50\u001b[0m, in \u001b[0;36mFundamentals._scrape_basics\u001b[0;34m(self, proxy)\u001b[0m\n\u001b[1;32m     47\u001b[0m     \u001b[39mreturn\u001b[39;00m\n\u001b[1;32m     48\u001b[0m \u001b[39mself\u001b[39m\u001b[39m.\u001b[39m_basics_already_scraped \u001b[39m=\u001b[39m \u001b[39mTrue\u001b[39;00m\n\u001b[0;32m---> 50\u001b[0m \u001b[39mself\u001b[39m\u001b[39m.\u001b[39m_financials_data \u001b[39m=\u001b[39m \u001b[39mself\u001b[39;49m\u001b[39m.\u001b[39;49m_data\u001b[39m.\u001b[39;49mget_json_data_stores(\u001b[39m'\u001b[39;49m\u001b[39mfinancials\u001b[39;49m\u001b[39m'\u001b[39;49m, proxy)\n\u001b[1;32m     51\u001b[0m \u001b[39mtry\u001b[39;00m:\n\u001b[1;32m     52\u001b[0m     \u001b[39mself\u001b[39m\u001b[39m.\u001b[39m_fin_data_quote \u001b[39m=\u001b[39m \u001b[39mself\u001b[39m\u001b[39m.\u001b[39m_financials_data[\u001b[39m'\u001b[39m\u001b[39mQuoteSummaryStore\u001b[39m\u001b[39m'\u001b[39m]\n",
      "File \u001b[0;32m~/.local/lib/python3.9/site-packages/yfinance/data.py:48\u001b[0m, in \u001b[0;36mlru_cache_freezeargs.<locals>.wrapped\u001b[0;34m(*args, **kwargs)\u001b[0m\n\u001b[1;32m     46\u001b[0m args \u001b[39m=\u001b[39m \u001b[39mtuple\u001b[39m([\u001b[39mtuple\u001b[39m(arg) \u001b[39mif\u001b[39;00m \u001b[39misinstance\u001b[39m(arg, \u001b[39mlist\u001b[39m) \u001b[39melse\u001b[39;00m arg \u001b[39mfor\u001b[39;00m arg \u001b[39min\u001b[39;00m args])\n\u001b[1;32m     47\u001b[0m kwargs \u001b[39m=\u001b[39m {k: \u001b[39mtuple\u001b[39m(v) \u001b[39mif\u001b[39;00m \u001b[39misinstance\u001b[39m(v, \u001b[39mlist\u001b[39m) \u001b[39melse\u001b[39;00m v \u001b[39mfor\u001b[39;00m k, v \u001b[39min\u001b[39;00m kwargs\u001b[39m.\u001b[39mitems()}\n\u001b[0;32m---> 48\u001b[0m \u001b[39mreturn\u001b[39;00m func(\u001b[39m*\u001b[39;49margs, \u001b[39m*\u001b[39;49m\u001b[39m*\u001b[39;49mkwargs)\n",
      "File \u001b[0;32m~/.local/lib/python3.9/site-packages/yfinance/data.py:323\u001b[0m, in \u001b[0;36mTickerData.get_json_data_stores\u001b[0;34m(self, sub_page, proxy)\u001b[0m\n\u001b[1;32m    320\u001b[0m     keys \u001b[39m+\u001b[39m\u001b[39m=\u001b[39m response_gh\u001b[39m.\u001b[39mtext\u001b[39m.\u001b[39msplitlines()\n\u001b[1;32m    322\u001b[0m \u001b[39m# Decrypt!\u001b[39;00m\n\u001b[0;32m--> 323\u001b[0m stores \u001b[39m=\u001b[39m decrypt_cryptojs_aes_stores(data, keys)\n\u001b[1;32m    324\u001b[0m \u001b[39mif\u001b[39;00m stores \u001b[39mis\u001b[39;00m \u001b[39mNone\u001b[39;00m:\n\u001b[1;32m    325\u001b[0m     \u001b[39m# Maybe Yahoo returned old format, not encrypted\u001b[39;00m\n\u001b[1;32m    326\u001b[0m     \u001b[39mif\u001b[39;00m \u001b[39m\"\u001b[39m\u001b[39mcontext\u001b[39m\u001b[39m\"\u001b[39m \u001b[39min\u001b[39;00m data \u001b[39mand\u001b[39;00m \u001b[39m\"\u001b[39m\u001b[39mdispatcher\u001b[39m\u001b[39m\"\u001b[39m \u001b[39min\u001b[39;00m data[\u001b[39m\"\u001b[39m\u001b[39mcontext\u001b[39m\u001b[39m\"\u001b[39m]:\n",
      "File \u001b[0;32m~/.local/lib/python3.9/site-packages/yfinance/data.py:169\u001b[0m, in \u001b[0;36mdecrypt_cryptojs_aes_stores\u001b[0;34m(data, keys)\u001b[0m\n\u001b[1;32m    167\u001b[0m             \u001b[39mpass\u001b[39;00m\n\u001b[1;32m    168\u001b[0m     \u001b[39mif\u001b[39;00m \u001b[39mnot\u001b[39;00m success:\n\u001b[0;32m--> 169\u001b[0m         \u001b[39mraise\u001b[39;00m \u001b[39mException\u001b[39;00m(\u001b[39m\"\u001b[39m\u001b[39myfinance failed to decrypt Yahoo data response\u001b[39m\u001b[39m\"\u001b[39m)\n\u001b[1;32m    171\u001b[0m decoded_stores \u001b[39m=\u001b[39m json\u001b[39m.\u001b[39mloads(plaintext)\n\u001b[1;32m    172\u001b[0m \u001b[39mreturn\u001b[39;00m decoded_stores\n",
      "\u001b[0;31mException\u001b[0m: yfinance failed to decrypt Yahoo data response"
     ]
    }
   ],
   "source": [
    "import yfinance as yf\n",
    "\n",
    "msft = yf.Ticker(\"MSFT\")\n",
    "\n",
    "# get all stock info\n",
    "msft.info\n",
    "\n",
    "# get historical market data\n",
    "hist = msft.history(period=\"1mo\")\n",
    "\n",
    "# show meta information about the history (requires history() to be called first)\n",
    "msft.history_metadata\n",
    "\n",
    "# show actions (dividends, splits, capital gains)\n",
    "msft.actions\n",
    "msft.dividends\n",
    "msft.splits\n",
    "msft.capital_gains  # only for mutual funds & etfs\n",
    "\n",
    "# show share count\n",
    "# - yearly summary:\n",
    "msft.shares\n",
    "# - accurate time-series count:\n",
    "msft.get_shares_full(start=\"2022-01-01\", end=None)\n",
    "\n",
    "# show financials:\n",
    "# - income statement\n",
    "msft.income_stmt\n",
    "msft.quarterly_income_stmt\n",
    "# - balance sheet\n",
    "msft.balance_sheet\n",
    "msft.quarterly_balance_sheet\n",
    "# - cash flow statement\n",
    "msft.cashflow\n",
    "msft.quarterly_cashflow\n",
    "# see `Ticker.get_income_stmt()` for more options\n",
    "\n",
    "# show holders\n",
    "msft.major_holders\n",
    "msft.institutional_holders\n",
    "msft.mutualfund_holders\n",
    "\n",
    "# show earnings\n",
    "msft.earnings\n",
    "msft.quarterly_earnings\n",
    "\n",
    "# show sustainability\n",
    "msft.sustainability\n",
    "\n",
    "# show analysts recommendations\n",
    "msft.recommendations\n",
    "msft.recommendations_summary\n",
    "# show analysts other work\n",
    "msft.analyst_price_target\n",
    "msft.revenue_forecasts\n",
    "msft.earnings_forecasts\n",
    "msft.earnings_trend\n",
    "\n",
    "# show next event (earnings, etc)\n",
    "msft.calendar\n",
    "\n",
    "# Show future and historic earnings dates, returns at most next 4 quarters and last 8 quarters by default. \n",
    "# Note: If more are needed use msft.get_earnings_dates(limit=XX) with increased limit argument.\n",
    "msft.earnings_dates\n",
    "\n",
    "# show ISIN code - *experimental*\n",
    "# ISIN = International Securities Identification Number\n",
    "msft.isin\n",
    "\n",
    "# show options expirations\n",
    "msft.options\n",
    "\n",
    "# show news\n",
    "msft.news\n",
    "\n",
    "# get option chain for specific expiration\n",
    "opt = msft.option_chain('YYYY-MM-DD')\n",
    "# data available via: opt.calls, opt.puts"
   ]
  },
  {
   "cell_type": "code",
   "execution_count": null,
   "metadata": {},
   "outputs": [],
   "source": [
    "codeFrame=pd.read_csv('個股日成交資訊.csv',  usecols=['證券代號','證券名稱', '成交金額'])\n",
    "codeFrame['證券代號'].astype(str) + codeFrame['證券名稱']"
   ]
  }
 ],
 "metadata": {
  "kernelspec": {
   "display_name": "Python 3",
   "language": "python",
   "name": "python3"
  },
  "language_info": {
   "codemirror_mode": {
    "name": "ipython",
    "version": 3
   },
   "file_extension": ".py",
   "mimetype": "text/x-python",
   "name": "python",
   "nbconvert_exporter": "python",
   "pygments_lexer": "ipython3",
   "version": "3.9.17"
  },
  "orig_nbformat": 4
 },
 "nbformat": 4,
 "nbformat_minor": 2
}

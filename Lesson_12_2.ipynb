{
 "cells": [
  {
   "cell_type": "code",
   "execution_count": 14,
   "metadata": {},
   "outputs": [
    {
     "data": {
      "text/plain": [
       "0        0050元大台灣50\n",
       "1       0051元大中型100\n",
       "2          0052富邦科技\n",
       "3          0053元大電子\n",
       "4        0054元大台商50\n",
       "           ...     \n",
       "1108         9944新麗\n",
       "1109        9945潤泰新\n",
       "1110       9946三發地產\n",
       "1111         9955佳龍\n",
       "1112        9958世紀鋼\n",
       "Length: 1113, dtype: object"
      ]
     },
     "execution_count": 14,
     "metadata": {},
     "output_type": "execute_result"
    }
   ],
   "source": [
    "import pandas as pd\n",
    "import streamlit as st\n",
    "\n",
    "codeFrame=pd.read_csv('個股日成交資訊.csv',  usecols=['證券代號','證券名稱', '成交金額'])\n",
    "codeFrame['證券代號'].astype(str) + codeFrame['證券名稱']"
   ]
  },
  {
   "cell_type": "code",
   "execution_count": null,
   "metadata": {},
   "outputs": [],
   "source": [
    "codeFrame=pd.read_csv('個股日成交資訊.csv',  usecols=['證券代號','證券名稱', '成交金額'])\n",
    "codeFrame['證券代號'].astype(str) + codeFrame['證券名稱']"
   ]
  }
 ],
 "metadata": {
  "kernelspec": {
   "display_name": "Python 3",
   "language": "python",
   "name": "python3"
  },
  "language_info": {
   "codemirror_mode": {
    "name": "ipython",
    "version": 3
   },
   "file_extension": ".py",
   "mimetype": "text/x-python",
   "name": "python",
   "nbconvert_exporter": "python",
   "pygments_lexer": "ipython3",
   "version": "3.9.17"
  },
  "orig_nbformat": 4
 },
 "nbformat": 4,
 "nbformat_minor": 2
}
